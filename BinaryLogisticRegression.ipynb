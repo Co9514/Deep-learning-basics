{
 "cells": [
  {
   "cell_type": "code",
   "execution_count": 1,
   "metadata": {},
   "outputs": [],
   "source": [
    "import tensorflow as tf"
   ]
  },
  {
   "cell_type": "code",
   "execution_count": 2,
   "metadata": {},
   "outputs": [],
   "source": [
    "x_data = [[1,2],[2,3],[3,1],[4,3],[5,3],[6,2]]\n",
    "y_data = [[0],[0],[0],[1],[1],[1]]\n",
    "\n",
    "X = tf.placeholder(tf.float32,shape=[None , 2])\n",
    "Y = tf.placeholder(tf.float32,shape=[None , 1])\n",
    "\n",
    "W = tf.Variable(tf.random_normal([2,1]),name='weight')\n",
    "b = tf.Variable(tf.random_normal([1]),name ='bias')\n",
    "\n",
    "hypothesis = tf.sigmoid(tf.matmul(X,W)+b)\n",
    "\n",
    "cost = -tf.reduce_mean(Y * tf.log(hypothesis) + (1 - Y)* tf.log(1 - hypothesis))\n",
    "\n",
    "train = tf.train.GradientDescentOptimizer(learning_rate = 0.01).minimize(cost)\n",
    "\n",
    "predicted = tf.cast(hypothesis > 0.5, dtype = tf.float32)\n",
    "accuracy = tf.reduce_mean(tf.cast(tf.equal(predicted, Y), dtype = tf.float32))"
   ]
  },
  {
   "cell_type": "code",
   "execution_count": 3,
   "metadata": {},
   "outputs": [
    {
     "name": "stdout",
     "output_type": "stream",
     "text": [
      "0 1.4589771\n",
      "200 0.5725353\n",
      "400 0.41398215\n",
      "600 0.34925744\n",
      "800 0.31761983\n",
      "1000 0.29893062\n",
      "1200 0.28601265\n",
      "1400 0.2759791\n",
      "1600 0.26754305\n",
      "1800 0.26008192\n",
      "2000 0.25327405\n",
      "2200 0.24694328\n",
      "2400 0.24098742\n",
      "2600 0.23534381\n",
      "2800 0.22997159\n",
      "3000 0.2248423\n",
      "3200 0.21993475\n",
      "3400 0.21523233\n",
      "3600 0.21072124\n",
      "3800 0.20638968\n",
      "4000 0.20222706\n",
      "4200 0.19822413\n",
      "4400 0.19437206\n",
      "4600 0.19066297\n",
      "4800 0.1870894\n",
      "5000 0.18364447\n",
      "5200 0.18032175\n",
      "5400 0.17711513\n",
      "5600 0.17401893\n",
      "5800 0.17102784\n",
      "6000 0.16813676\n",
      "6200 0.16534102\n",
      "6400 0.16263618\n",
      "6600 0.16001803\n",
      "6800 0.15748264\n",
      "7000 0.15502633\n",
      "7200 0.15264545\n",
      "7400 0.15033674\n",
      "7600 0.1480971\n",
      "7800 0.14592351\n",
      "8000 0.1438132\n",
      "8200 0.14176352\n",
      "8400 0.1397719\n",
      "8600 0.13783602\n",
      "8800 0.13595353\n",
      "9000 0.13412239\n",
      "9200 0.1323405\n",
      "9400 0.130606\n",
      "9600 0.12891696\n",
      "9800 0.12727174\n",
      "10000 0.12566854\n",
      "\n",
      " Hypothesis :  [[0.02139491]\n",
      " [0.14384383]\n",
      " [0.256404  ]\n",
      " [0.80449   ]\n",
      " [0.95319176]\n",
      " [0.9848252 ]] \n",
      " Correct(Y) :  [[0.]\n",
      " [0.]\n",
      " [0.]\n",
      " [1.]\n",
      " [1.]\n",
      " [1.]] \n",
      " Accuracy :  1.0\n"
     ]
    }
   ],
   "source": [
    "with tf.Session() as sess:\n",
    "    sess.run(tf.global_variables_initializer())\n",
    "    \n",
    "    for step in range(10001) :\n",
    "        cost_val, _ = sess.run([cost,train], feed_dict={X : x_data, Y : y_data})\n",
    "        if step % 200 == 0 :\n",
    "            print(step,cost_val)\n",
    "    h,c,a = sess.run([hypothesis,predicted,accuracy], feed_dict = {X : x_data, Y : y_data})\n",
    "    \n",
    "    print(\"\\n Hypothesis : \",h,\"\\n Correct(Y) : \", c , \"\\n Accuracy : \", a)"
   ]
  }
 ],
 "metadata": {
  "kernelspec": {
   "display_name": "Python 3",
   "language": "python",
   "name": "python3"
  },
  "language_info": {
   "codemirror_mode": {
    "name": "ipython",
    "version": 3
   },
   "file_extension": ".py",
   "mimetype": "text/x-python",
   "name": "python",
   "nbconvert_exporter": "python",
   "pygments_lexer": "ipython3",
   "version": "3.7.6"
  }
 },
 "nbformat": 4,
 "nbformat_minor": 4
}
