{
 "cells": [
  {
   "cell_type": "code",
   "execution_count": 1,
   "metadata": {},
   "outputs": [],
   "source": [
    "import tensorflow as tf\n",
    "import random\n",
    "from tensorflow.examples.tutorials.mnist import input_data"
   ]
  },
  {
   "cell_type": "code",
   "execution_count": 2,
   "metadata": {},
   "outputs": [
    {
     "name": "stdout",
     "output_type": "stream",
     "text": [
      "WARNING:tensorflow:From <ipython-input-2-dc662c85692f>:4: read_data_sets (from tensorflow.contrib.learn.python.learn.datasets.mnist) is deprecated and will be removed in a future version.\n",
      "Instructions for updating:\n",
      "Please use alternatives such as official/mnist/dataset.py from tensorflow/models.\n",
      "WARNING:tensorflow:From C:\\ProgramData\\Anaconda3\\lib\\site-packages\\tensorflow\\contrib\\learn\\python\\learn\\datasets\\mnist.py:260: maybe_download (from tensorflow.contrib.learn.python.learn.datasets.base) is deprecated and will be removed in a future version.\n",
      "Instructions for updating:\n",
      "Please write your own downloading logic.\n",
      "WARNING:tensorflow:From C:\\ProgramData\\Anaconda3\\lib\\site-packages\\tensorflow\\contrib\\learn\\python\\learn\\datasets\\mnist.py:262: extract_images (from tensorflow.contrib.learn.python.learn.datasets.mnist) is deprecated and will be removed in a future version.\n",
      "Instructions for updating:\n",
      "Please use tf.data to implement this functionality.\n",
      "Extracting MNIST_data/train-images-idx3-ubyte.gz\n",
      "WARNING:tensorflow:From C:\\ProgramData\\Anaconda3\\lib\\site-packages\\tensorflow\\contrib\\learn\\python\\learn\\datasets\\mnist.py:267: extract_labels (from tensorflow.contrib.learn.python.learn.datasets.mnist) is deprecated and will be removed in a future version.\n",
      "Instructions for updating:\n",
      "Please use tf.data to implement this functionality.\n",
      "Extracting MNIST_data/train-labels-idx1-ubyte.gz\n",
      "WARNING:tensorflow:From C:\\ProgramData\\Anaconda3\\lib\\site-packages\\tensorflow\\contrib\\learn\\python\\learn\\datasets\\mnist.py:110: dense_to_one_hot (from tensorflow.contrib.learn.python.learn.datasets.mnist) is deprecated and will be removed in a future version.\n",
      "Instructions for updating:\n",
      "Please use tf.one_hot on tensors.\n",
      "Extracting MNIST_data/t10k-images-idx3-ubyte.gz\n",
      "Extracting MNIST_data/t10k-labels-idx1-ubyte.gz\n",
      "WARNING:tensorflow:From C:\\ProgramData\\Anaconda3\\lib\\site-packages\\tensorflow\\contrib\\learn\\python\\learn\\datasets\\mnist.py:290: DataSet.__init__ (from tensorflow.contrib.learn.python.learn.datasets.mnist) is deprecated and will be removed in a future version.\n",
      "Instructions for updating:\n",
      "Please use alternatives such as official/mnist/dataset.py from tensorflow/models.\n",
      "WARNING:tensorflow:From <ipython-input-2-dc662c85692f>:40: calling dropout (from tensorflow.python.ops.nn_ops) with keep_prob is deprecated and will be removed in a future version.\n",
      "Instructions for updating:\n",
      "Please use `rate` instead of `keep_prob`. Rate should be set to `rate = 1 - keep_prob`.\n"
     ]
    }
   ],
   "source": [
    "tf.set_random_seed(777)\n",
    "\n",
    "# mnist 데이터셋을 호출\n",
    "mnist = input_data.\n",
    "\n",
    "# learning_rate\n",
    "learning_rate = 0.001\n",
    "# 15번 학습\n",
    "training_epochs = 15\n",
    "# img 100개씩 순환하며 학습\n",
    "batch_size = 100\n",
    "\n",
    "# dropout rate는 0.7~0.5를 사용하지만 테스트에서는 1을 주어야한다.\n",
    "keep_prob = tf.placeholder(tf.float32)\n",
    "\n",
    "# input img 를 담을 placeholder 28*28 = 784\n",
    "X = tf.placeholder(tf.float32,[None,784])\n",
    "\n",
    "# 우리가 넣을 이미지의 크기를 정의 28*28*1 (BLACK/WHITE) -1은 몇개가 들어올지 정해지지 않았을 때\n",
    "X_img = tf.reshape(X,[-1,28,28,1])\n",
    "\n",
    "# output이 담길 placeholder 숫자의 수 0~9까지10개\n",
    "Y = tf.placeholder(tf.float32,[None,10])\n",
    "\n",
    "#L1 image shape = (?,28,28,1) 28*28*1 의 이미지 n개\n",
    "# filter의 크기는 3*3*1 의 필터 32개를 사용한다고 정의한다. 필터의 크기에서 채널의 크기는 입력과 지켜주자\n",
    "W1 = tf.Variable(tf.random_normal([3,3,1,32],stddev = 0.01))\n",
    "\n",
    "# Conv -> (?,28,28,32) 패딩 SAME 스트라이드 1이기 때문에 같은 크기가 될 때까지 이동하면서 Conv를 추출 하지만 필터의 수가 32개이기 때문에\n",
    "# 28*28*32가 된다. 25,088\n",
    "L1 = tf.nn.conv2d(X_img, W1, strides = [1,1,1,1], padding = 'SAME')\n",
    "# 활성화함수 relu 적용\n",
    "L1 = tf.nn.relu(L1)\n",
    "# Pool -> (?,14,14,32) 6,272\n",
    "# maxpooling 커널의 크기는 2*2 스트라이드 2 패딩은 SAME으로 절반이 된다.\n",
    "L1 = tf.nn.max_pool(L1,ksize=[1,2,2,1],\n",
    "                   strides = [1,2,2,1], padding = 'SAME')\n",
    "\n",
    "# overfitting을 방지하기 위한 드랍아웃\n",
    "L1 = tf.nn.dropout(L1,keep_prob = keep_prob)"
   ]
  },
  {
   "cell_type": "code",
   "execution_count": 3,
   "metadata": {},
   "outputs": [],
   "source": [
    "# L2 input image shape = (?,14,14,32)\n",
    "# filter 64개 사용\n",
    "W2 = tf.Variable(tf.random_normal([3,3,32,64], stddev = 0.01))\n",
    "\n",
    "# Conv -> (?,14,14,64)\n",
    "# 위에서 나온 L1이 입력으로 들어감\n",
    "L2 = tf.nn.conv2d(L1, W2, strides=[1,1,1,1], padding='SAME')\n",
    "\n",
    "# L2에 활성화함수 적용\n",
    "L2 = tf.nn.relu(L2)\n",
    "\n",
    "# Pool -> (?,7,7,64)\n",
    "# maxpooling 커널크기 2 스트라이드 2 필터갯수 64-> 7*7*64가 됨\n",
    "L2 = tf.nn.max_pool(L2, ksize=[1,2,2,1], strides=[1,2,2,1], padding='SAME')\n",
    "\n",
    "L2 = tf.nn.dropout(L2, keep_prob=keep_prob)"
   ]
  },
  {
   "cell_type": "code",
   "execution_count": 5,
   "metadata": {},
   "outputs": [],
   "source": [
    "# L3 input image shape = (?,7,7,64)\n",
    "# filter 128개 사용\n",
    "W3 = tf.Variable(tf.random_normal([7,7,64,128], stddev = 0.01))\n",
    "\n",
    "# Conv -> (?,7,7,128)\n",
    "# 위에서 나온 L2이 입력으로 들어감\n",
    "L3 = tf.nn.conv2d(L2, W3, strides=[1,1,1,1], padding='SAME')\n",
    "\n",
    "# L3에 활성화함수 적용\n",
    "L3 = tf.nn.relu(L3)\n",
    "\n",
    "# Pool -> (?,4,4,128)\n",
    "# maxpooling 커널크기 2 스트라이드 2 필터갯수 128 -> 4*4*128이 됨\n",
    "L3 = tf.nn.max_pool(L3, ksize=[1,2,2,1], strides=[1,2,2,1], padding='SAME')\n",
    "L3 = tf.nn.dropout(L3, keep_prob=keep_prob)\n",
    "\n",
    "# L3를 하나의 차원으로 펼친다.\n",
    "L3_flat = tf.reshape(L3, [-1,4*4*128])\n"
   ]
  },
  {
   "cell_type": "code",
   "execution_count": 8,
   "metadata": {},
   "outputs": [],
   "source": [
    "# L4 FC 4*4*128 input -> 625 output\n",
    "W4 = tf.get_variable(\"W4_1\", shape=[4*4*128,625], initializer=tf.contrib.layers.xavier_initializer())\n",
    "\n",
    "# bias는 output 크기가 같아야함\n",
    "b4 = tf.Variable(tf.random_normal([625]))\n",
    "\n",
    "# L3_flat * W4 + b4를 한 뒤에 활성화함수 적용\n",
    "L4 = tf.nn.relu(tf.matmul(L3_flat,W4) + b4)\n",
    "L4 = tf.nn.dropout(L4, keep_prob=keep_prob)"
   ]
  },
  {
   "cell_type": "code",
   "execution_count": 9,
   "metadata": {},
   "outputs": [
    {
     "name": "stdout",
     "output_type": "stream",
     "text": [
      "WARNING:tensorflow:From <ipython-input-9-1bc4e84def6f>:9: softmax_cross_entropy_with_logits (from tensorflow.python.ops.nn_ops) is deprecated and will be removed in a future version.\n",
      "Instructions for updating:\n",
      "\n",
      "Future major versions of TensorFlow will allow gradients to flow\n",
      "into the labels input on backprop by default.\n",
      "\n",
      "See `tf.nn.softmax_cross_entropy_with_logits_v2`.\n",
      "\n"
     ]
    }
   ],
   "source": [
    "W5 = tf.get_variable(\"W5\", shape=[625,10], initializer=tf.contrib.layers.xavier_initializer())\n",
    "\n",
    "b5 = tf.Variable(tf.random_normal([10]))\n",
    "\n",
    "logits = tf.matmul(L4, W5) + b5\n",
    "\n",
    "# loss function과 최적화 함수 정의\n",
    "# 크로스엔트로피와 소프트맥스를 우리가 세운 가설 logit에 적용하고 그것의 평균을 구한다.\n",
    "loss = tf.reduce_mean(tf.nn.softmax_cross_entropy_with_logits(logits= logits, labels = Y))\n",
    "\n",
    "# 경사하강법을 통해 loss가 최소가 되는 방향으로 최적화 진행\n",
    "optimizer = tf.train.AdamOptimizer(learning_rate = learning_rate).minimize(loss)"
   ]
  },
  {
   "cell_type": "code",
   "execution_count": 11,
   "metadata": {},
   "outputs": [
    {
     "name": "stdout",
     "output_type": "stream",
     "text": [
      "학습 시작\n",
      "Epoch :  0001 Cost :  0.316606152\n",
      "Epoch :  0002 Cost :  0.078444657\n",
      "Epoch :  0003 Cost :  0.057444553\n",
      "Epoch :  0004 Cost :  0.046861417\n",
      "Epoch :  0005 Cost :  0.040452211\n",
      "Epoch :  0006 Cost :  0.034965851\n",
      "Epoch :  0007 Cost :  0.031288072\n",
      "Epoch :  0008 Cost :  0.029549464\n",
      "Epoch :  0009 Cost :  0.027799732\n",
      "Epoch :  0010 Cost :  0.025330664\n",
      "Epoch :  0011 Cost :  0.023159391\n",
      "Epoch :  0012 Cost :  0.021912025\n",
      "Epoch :  0013 Cost :  0.020249106\n",
      "Epoch :  0014 Cost :  0.021010585\n",
      "Epoch :  0015 Cost :  0.020356772\n",
      "학습 끝\n"
     ]
    }
   ],
   "source": [
    "# 텐서플로우 세션 생성\n",
    "sess = tf.Session()\n",
    "\n",
    "# 글로벌 변수 초기화\n",
    "sess.run(tf.global_variables_initializer())\n",
    "\n",
    "print('학습 시작')\n",
    "for epoch in range(training_epochs):\n",
    "    avg_cost = 0\n",
    "    \n",
    "    # 학습 이미지 batch_size 만큼 가져오면서 학습\n",
    "    total_batch = int(mnist.train.num_examples / batch_size)\n",
    "    \n",
    "    for i in range(total_batch):\n",
    "        batch_xs, batch_ys = mnist.train.next_batch(batch_size)\n",
    "        # 드랍아웃 0.7\n",
    "        feed_dict = {X : batch_xs, Y : batch_ys, keep_prob: 0.7}\n",
    "        c, _ = sess.run([loss,optimizer],feed_dict = feed_dict)\n",
    "        avg_cost += c / total_batch\n",
    "    print('Epoch : ', '%04d' % (epoch +1), 'Cost : ', '{:.9f}'.format(avg_cost))\n",
    "print('학습 끝')"
   ]
  },
  {
   "cell_type": "code",
   "execution_count": 17,
   "metadata": {},
   "outputs": [
    {
     "name": "stdout",
     "output_type": "stream",
     "text": [
      "Accuracy :  0.9941\n",
      "Label :  [1]\n",
      "Prediction :  [1]\n"
     ]
    }
   ],
   "source": [
    "# 정답률 체크\n",
    "correct_prediction = tf.equal(tf.argmax(logits,1),tf.argmax(Y,1))\n",
    "\n",
    "accuracy = tf.reduce_mean(tf.cast(correct_prediction,tf.float32))\n",
    "print('Accuracy : ', sess.run(accuracy,feed_dict = { X : mnist.test.images, Y : mnist.test.labels, keep_prob:1}))\n",
    "\n",
    "r = random.randint(0, mnist.test.num_examples - 1)\n",
    "print(\"Label : \", sess.run(tf.argmax(mnist.test.labels[r:r+1], 1)))\n",
    "print(\"Prediction : \",sess.run(tf.argmax(logits,1), feed_dict={X : mnist.test.images[r:r+1],keep_prob:1}))"
   ]
  },
  {
   "cell_type": "code",
   "execution_count": null,
   "metadata": {},
   "outputs": [],
   "source": []
  }
 ],
 "metadata": {
  "kernelspec": {
   "display_name": "Python 3",
   "language": "python",
   "name": "python3"
  },
  "language_info": {
   "codemirror_mode": {
    "name": "ipython",
    "version": 3
   },
   "file_extension": ".py",
   "mimetype": "text/x-python",
   "name": "python",
   "nbconvert_exporter": "python",
   "pygments_lexer": "ipython3",
   "version": "3.7.6"
  }
 },
 "nbformat": 4,
 "nbformat_minor": 4
}
